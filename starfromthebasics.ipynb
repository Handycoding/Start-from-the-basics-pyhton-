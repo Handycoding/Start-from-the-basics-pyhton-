{
  "metadata": {
    "kernelspec": {
      "name": "python",
      "display_name": "Python (Pyodide)",
      "language": "python"
    },
    "language_info": {
      "codemirror_mode": {
        "name": "python",
        "version": 3
      },
      "file_extension": ".py",
      "mimetype": "text/x-python",
      "name": "python",
      "nbconvert_exporter": "python",
      "pygments_lexer": "ipython3",
      "version": "3.8"
    }
  },
  "nbformat_minor": 5,
  "nbformat": 4,
  "cells": [
    {
      "id": "a35eeb9f-df70-4ab1-a243-2d2025888eb0",
      "cell_type": "markdown",
      "metadata": {}
    },
    {
      "id": "4abdd3e0-1e40-491e-a5e5-eba263fcedc8",
      "cell_type": "code",
      "source": "print(\"hola mundo\")",
      "metadata": {
        "trusted": true
      },
      "outputs": [],
      "execution_count": null
    },
    {
      "id": "b9670d85-ef29-4dfd-b4b5-e76d279c1f1a",
      "cell_type": "markdown",
            "metadata": {}
    },
    {
      "id": "7762dfc6-2eff-441f-87d1-c2bee7ef9565",
      "cell_type": "code",
      "source": "#Start from the beggining\n#En base al repositorio principal de python, buscare resumir lo más importante\n#esto es un comentario\nprint((\"hola Handy\"))",
      "metadata": {
        "trusted": true
      },
      "outputs": [
        {
          "name": "stdout",
          "output_type": "stream",
          "text": "hola mundo\n"
        }
      ],
      "execution_count": 4
    },
    {
      "id": "b71fddbc-d8b9-4e44-8f32-a0f920ed1569",
      "cell_type": "code",
      "source": "#consulta de tipo de dato\nprint(type(\"hola Handy\"))\nprint(type(5))\nprint(type(1.5))\nprint(type(False))",
      "metadata": {
        "trusted": true
      },
      "outputs": [
        {
          "name": "stdout",
          "output_type": "stream",
          "text": "<class 'str'>\n<class 'int'>\n<class 'float'>\n<class 'bool'>\n"
        }
      ],
      "execution_count": 8
    },
    {
      "id": "ec87f92f-eb8d-4d1f-b815-0ec1aaf5326f",
      "cell_type": "code",
      "source": "#variables\nfirst_name = \"Handy\"\nlast_name = \"Dueñas\"\nage = 25\nis_married = False \n#normal print\nprint(first_name,\"    \",last_name,age)\n#convirtiendo a string\nprint(type(age))\nage = str(age)\nprint(type(age))\nprint(age)\n#concatenación\nprint(type(print(type((first_name,\"    \",last_name,age)))))\n#funciones\nprint(len(first_name))\n#variables de una sola linea\nfirst_name, last_name, age, is_married = \"Sofia\", \"Garcia\", 45, True\nprint(first_name, last_name, age, is_married)",
      "metadata": {
        "trusted": true
      },
      "outputs": [
        {
          "name": "stdout",
          "output_type": "stream",
          "text": "Handy      Dueñas 25\n<class 'int'>\n<class 'str'>\n25\n<class 'tuple'>\n<class 'NoneType'>\n5\nSofia Garcia 45 True\n"
        }
      ],
      "execution_count": 25
    },
    {
      "id": "442a8d6a-93de-4160-a6aa-f7dec4d371f7",
      "cell_type": "code",
      "source": "#Inputs\nname = input('Cuál es tu nombre?')\nage = input('Cuál es tu edad?')\nprint(name)\nprint(age)",
      "metadata": {
        "trusted": true
      },
      "outputs": [
        {
          "name": "stdout",
          "output_type": "stream",
          "text": "<PyodideFuture pending cb=[WebLoop._decrement_in_progress()]>\n<PyodideFuture pending cb=[WebLoop._decrement_in_progress()]>\n"
        }
      ],
      "execution_count": 31
    },
    {
      "id": "663b9a78-fa3d-4a5e-bdab-9f9802fbd0b3",
      "cell_type": "code",
      "source": "",
      "metadata": {
        "trusted": true
      },
      "outputs": [],
      "execution_count": null
    }
  ]
}